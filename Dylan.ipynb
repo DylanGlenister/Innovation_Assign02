{
 "cells": [
  {
   "cell_type": "markdown",
   "metadata": {},
   "source": [
    "# Dylan"
   ]
  },
  {
   "cell_type": "markdown",
   "metadata": {},
   "source": [
    "### Ideas\n",
    "- Split data into blocks, maybe store the data 3 dimensionally."
   ]
  },
  {
   "cell_type": "markdown",
   "metadata": {},
   "source": [
    "### Imports"
   ]
  },
  {
   "cell_type": "code",
   "execution_count": 1,
   "metadata": {},
   "outputs": [],
   "source": [
    "import pandas as pd\n",
    "import seaborn as sb\n",
    "import matplotlib.pyplot as plt\n",
    "from datetime import datetime, date\n",
    "from sklearn.model_selection import train_test_split\n",
    "from sklearn.linear_model import LinearRegression\n",
    "from sklearn.metrics import mean_squared_error, r2_score"
   ]
  },
  {
   "cell_type": "code",
   "execution_count": 2,
   "metadata": {},
   "outputs": [],
   "source": [
    "file_path = './weatherAUS.csv'\n",
    "raw_data = pd.read_csv(file_path)\n",
    "\n",
    "# Remove columns that either has a large amount of missing data or are not suitable for machine learning\n",
    "raw_data.drop(columns=['Sunshine', 'Evaporation', 'WindGustDir', 'WindDir9am', 'WindDir3pm', 'RainToday', 'RainTomorrow'], inplace=True)"
   ]
  },
  {
   "cell_type": "markdown",
   "metadata": {},
   "source": [
    "### Date conversion"
   ]
  },
  {
   "cell_type": "code",
   "execution_count": 3,
   "metadata": {},
   "outputs": [],
   "source": [
    "def to_isodate(start: str):\n",
    "\t'''Converts the date from dd-mm-yyyy to yyyy-mm-dd'''\n",
    "\treturn datetime.strptime(start, '%d-%m-%Y').strftime(\"%Y-%m-%d\")\n",
    "\n",
    "def convert_date_to_day(_date: str):\n",
    "\t'''Converts the date into the number of days since 2000-01-01'''\n",
    "\tdelta = datetime.strptime(_date, '%Y-%m-%d').date() - date(2000, 1, 1)\n",
    "\treturn delta.days\n",
    "\n",
    "raw_data['Date'] = raw_data['Date'].apply(to_isodate)\n",
    "raw_data['Day'] = raw_data['Date'].apply(convert_date_to_day)"
   ]
  },
  {
   "cell_type": "code",
   "execution_count": null,
   "metadata": {},
   "outputs": [],
   "source": [
    "print(raw_data)"
   ]
  },
  {
   "cell_type": "markdown",
   "metadata": {},
   "source": [
    "### Missing values"
   ]
  },
  {
   "cell_type": "code",
   "execution_count": null,
   "metadata": {},
   "outputs": [],
   "source": [
    "print(raw_data.isnull().sum())\n",
    "raw_data.describe()"
   ]
  },
  {
   "cell_type": "code",
   "execution_count": 6,
   "metadata": {},
   "outputs": [],
   "source": [
    "# Fill missing data\n",
    "data_repaired = raw_data.copy()\n",
    "data_repaired.fillna({'MinTemp': data_repaired['MinTemp'].interpolate()}, inplace=True)\n",
    "data_repaired.fillna({'MaxTemp': data_repaired['MaxTemp'].interpolate()}, inplace=True)\n",
    "data_repaired.fillna({'Temp9am': data_repaired['Temp9am'].interpolate()}, inplace=True)\n",
    "data_repaired.fillna({'Temp3pm': data_repaired['Temp3pm'].interpolate()}, inplace=True)\n",
    "data_repaired.fillna({'Rainfall': data_repaired['Rainfall'].interpolate()}, inplace=True)\n",
    "data_repaired.fillna({'WindGustSpeed': data_repaired['WindGustSpeed'].interpolate()}, inplace=True)\n",
    "data_repaired.fillna({'WindSpeed9am': data_repaired['WindSpeed9am'].interpolate()}, inplace=True)\n",
    "data_repaired.fillna({'WindSpeed3pm': data_repaired['WindSpeed3pm'].interpolate()}, inplace=True)\n",
    "data_repaired.fillna({'Humidity9am': data_repaired['Humidity9am'].interpolate()}, inplace=True)\n",
    "data_repaired.fillna({'Humidity3pm': data_repaired['Humidity3pm'].interpolate()}, inplace=True)\n",
    "data_repaired.fillna({'Pressure9am': data_repaired['Pressure9am'].interpolate()}, inplace=True)\n",
    "data_repaired.fillna({'Pressure3pm': data_repaired['Pressure3pm'].interpolate()}, inplace=True)\n",
    "data_repaired.fillna({'Cloud9am': 0}, inplace=True)\n",
    "data_repaired.fillna({'Cloud3pm': 0}, inplace=True)"
   ]
  },
  {
   "cell_type": "code",
   "execution_count": null,
   "metadata": {},
   "outputs": [],
   "source": [
    "print(data_repaired.isnull().sum())\n",
    "data_repaired.describe()"
   ]
  },
  {
   "cell_type": "markdown",
   "metadata": {},
   "source": [
    "### Visualisation"
   ]
  },
  {
   "cell_type": "code",
   "execution_count": null,
   "metadata": {},
   "outputs": [],
   "source": [
    "visualisation_data = data_repaired.copy()\n",
    "fig, axs = plt.subplots(2, 4, figsize=(22, 20), sharey=False)\n",
    "\n",
    "# Date Location\n",
    "axs[0][0].set_title('Date range per location')\n",
    "axs[0][0].scatter(visualisation_data['Date'], visualisation_data['Location'])\n",
    "# I have no idea why these two don't line up\n",
    "# Day Location\n",
    "axs[0][1].set_title('Day range per location')\n",
    "axs[0][1].scatter(visualisation_data['Day'], visualisation_data['Location'])\n",
    "\n",
    "# MinTemp MaxTemp Temp9am Temp3pm\n",
    "axs[0][2].set_title('Temperature')\n",
    "temperature_labels = ['MinTemp', 'MaxTemp', 'Temp9am', 'Temp3pm']\n",
    "temperatures = visualisation_data[temperature_labels]\n",
    "axs[0][2].boxplot(temperatures, tick_labels=temperature_labels)\n",
    "\n",
    "# Rainfall Evaporation\n",
    "axs[0][3].set_title('Rainfall')\n",
    "rainfall = visualisation_data['Rainfall']\n",
    "axs[0][3].boxplot(rainfall)\n",
    "\n",
    "# WindGustSpeed WindSpeed9am WindSpeed3pm\n",
    "axs[1][0].set_title('Wind speed')\n",
    "wind_speed_labels = ['WindGustSpeed', 'WindSpeed9am', 'WindSpeed3pm']\n",
    "wind_speed = visualisation_data[wind_speed_labels]\n",
    "axs[1][0].boxplot(wind_speed, tick_labels=wind_speed_labels)\n",
    "\n",
    "# Humidity9am Humidity3pm\n",
    "axs[1][1].set_title('Humidity')\n",
    "humidity_labels = ['Humidity9am', 'Humidity3pm']\n",
    "humidity = visualisation_data[humidity_labels]\n",
    "axs[1][1].boxplot(humidity, tick_labels=humidity_labels)\n",
    "\n",
    "# Pressure9am Pressure3pm\n",
    "axs[1][2].set_title('Pressure')\n",
    "pressure_labels = ['Pressure9am', 'Pressure3pm']\n",
    "pressure = visualisation_data[pressure_labels]\n",
    "axs[1][2].boxplot(pressure, tick_labels=pressure_labels)\n",
    "\n",
    "# Cloud9am Cloud3pm\n",
    "axs[1][3].set_title('Cloud')\n",
    "cloud_labels = ['Cloud9am', 'Cloud3pm']\n",
    "cloud = visualisation_data[cloud_labels]\n",
    "axs[1][3].boxplot(cloud, tick_labels=cloud_labels)\n",
    "\n",
    "plt.show()"
   ]
  },
  {
   "cell_type": "code",
   "execution_count": null,
   "metadata": {},
   "outputs": [],
   "source": [
    "plt.figure(figsize=(12, 10))\n",
    "corr_matrix = data_repaired.drop(columns=['Date', 'Location']).corr()\n",
    "sb.heatmap(corr_matrix, annot=True, cmap='viridis', linewidths=0.5)\n",
    "plt.title('Correlation Matrix Heatmap')\n",
    "plt.show()"
   ]
  },
  {
   "cell_type": "markdown",
   "metadata": {},
   "source": [
    "### Isolate Locations"
   ]
  },
  {
   "cell_type": "code",
   "execution_count": null,
   "metadata": {},
   "outputs": [],
   "source": [
    "locations = data_repaired['Location'].drop_duplicates().to_list()\n",
    "locations"
   ]
  },
  {
   "cell_type": "markdown",
   "metadata": {},
   "source": [
    "### Training"
   ]
  },
  {
   "cell_type": "markdown",
   "metadata": {},
   "source": [
    "Create training, validation, and test data"
   ]
  },
  {
   "cell_type": "code",
   "execution_count": null,
   "metadata": {},
   "outputs": [],
   "source": []
  }
 ],
 "metadata": {
  "kernelspec": {
   "display_name": "myvenv",
   "language": "python",
   "name": "python3"
  },
  "language_info": {
   "codemirror_mode": {
    "name": "ipython",
    "version": 3
   },
   "file_extension": ".py",
   "mimetype": "text/x-python",
   "name": "python",
   "nbconvert_exporter": "python",
   "pygments_lexer": "ipython3",
   "version": "3.12.6"
  }
 },
 "nbformat": 4,
 "nbformat_minor": 2
}
